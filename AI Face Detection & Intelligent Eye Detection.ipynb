{
 "cells": [
  {
   "cell_type": "code",
   "execution_count": 1,
   "id": "ee86bb21-5182-46c8-83d4-0ed2c6663772",
   "metadata": {},
   "outputs": [],
   "source": [
    "import face_recognition as fr"
   ]
  },
  {
   "cell_type": "code",
   "execution_count": 2,
   "id": "39dfafb1-8c68-42ae-b0c9-ef9f43e59998",
   "metadata": {},
   "outputs": [
    {
     "name": "stdout",
     "output_type": "stream",
     "text": [
      "['__author__', '__builtins__', '__cached__', '__doc__', '__email__', '__file__', '__loader__', '__name__', '__package__', '__path__', '__spec__', '__version__', 'api', 'batch_face_locations', 'compare_faces', 'face_distance', 'face_encodings', 'face_landmarks', 'face_locations', 'load_image_file']\n"
     ]
    }
   ],
   "source": [
    "print(dir(fr))"
   ]
  },
  {
   "cell_type": "markdown",
   "id": "3c49a1e0-a48f-494a-b948-2ae4a887cd16",
   "metadata": {},
   "source": [
    "# IMAGE RECOGNITION #"
   ]
  },
  {
   "cell_type": "code",
   "execution_count": 3,
   "id": "366bbb76-cede-42a5-ae23-cccb9d4a5845",
   "metadata": {},
   "outputs": [
    {
     "name": "stdout",
     "output_type": "stream",
     "text": [
      "It's me\n"
     ]
    }
   ],
   "source": [
    "#Load Image\n",
    "my_image=fr.load_image_file(r'S:\\\\Seema maam\\\\10.Final Folder Face Recognition\\\\satpal.jpeg')\n",
    "\n",
    "your_image=fr.load_image_file(r'S:\\\\Seema maam\\\\10.Final Folder Face Recognition\\\\ravi.jpeg')\n",
    "#Image Encondings\n",
    "my_image_encoding = fr.face_encodings(my_image)[0]\n",
    "your_image_encoding = fr.face_encodings(your_image)[0]\n",
    "#Compare Images\n",
    "result = fr.compare_faces([my_image_encoding],my_image_encoding)\n",
    "if(result[0]==True):\n",
    " print(\"It's me\")\n",
    "else:\n",
    " print(\"It's not me\")\n"
   ]
  },
  {
   "cell_type": "markdown",
   "id": "771054fe-939a-44d2-822f-aaad67a61cb5",
   "metadata": {},
   "source": [
    "# IMAGE RECOGNITION #"
   ]
  },
  {
   "cell_type": "code",
   "execution_count": 5,
   "id": "6980249a-8b41-4b91-bc98-c396751bee15",
   "metadata": {},
   "outputs": [
    {
     "name": "stdout",
     "output_type": "stream",
     "text": [
      "It's not me\n"
     ]
    }
   ],
   "source": [
    "#Load Image\n",
    "my_image = fr.load_image_file(r'S:\\\\Seema maam\\\\10.Final Folder Face Recognition\\\\satpal.jpeg')\n",
    "your_image = fr.load_image_file(r'S:\\\\Seema maam\\\\10.Final Folder Face Recognition\\\\ravi.jpeg')\n",
    "#Image Encondings\n",
    "my_image_encoding = fr.face_encodings(my_image)[0]\n",
    "your_image_encoding = fr.face_encodings(your_image)[0]\n",
    "#Compare Images\n",
    "result = fr.compare_faces([my_image_encoding],your_image_encoding)\n",
    "if(result[0]==True):\n",
    " print(\"It's me\")\n",
    "else:\n",
    " print(\"It's not me\")"
   ]
  },
  {
   "cell_type": "markdown",
   "id": "15698942-410a-4ac9-a781-0de8fed7be25",
   "metadata": {},
   "source": [
    "# FACE RECOGNITION FROM IMAGE #"
   ]
  },
  {
   "cell_type": "code",
   "execution_count": 13,
   "id": "0b463f65-9285-4403-baf7-2451389f2d69",
   "metadata": {},
   "outputs": [
    {
     "data": {
      "text/plain": [
       "-1"
      ]
     },
     "execution_count": 13,
     "metadata": {},
     "output_type": "execute_result"
    }
   ],
   "source": [
    "import cv2\n",
    "# Load the cascade\n",
    "face_cascade = cv2.CascadeClassifier(r'S:\\\\Seema maam\\\\10.Final Folder Face Recognition\\\\haarcascade_frontalface_default.xml')\n",
    "# Read the input image\n",
    "img = cv2.imread(r'S:\\\\Seema maam\\\\10.Final Folder Face Recognition\\\\test.jpg')\n",
    "# Convert into grayscale\n",
    "gray = cv2.cvtColor(img, cv2.COLOR_BGR2GRAY)\n",
    "# Detect faces\n",
    "faces = face_cascade.detectMultiScale(gray, 1.1, 4)\n",
    "# Draw rectangle around the faces\n",
    "for (x, y, w, h) in faces:\n",
    " cv2.rectangle(img, (x, y), (x + w, y + h), (0, 0, 255), 4)\n",
    "# Display the output\n",
    "cv2.imshow('img', img)\n",
    "cv2.waitKey()\n"
   ]
  },
  {
   "cell_type": "markdown",
   "id": "497ccc8e-1fe6-4f72-98f9-2465738f07aa",
   "metadata": {},
   "source": [
    "# FACE RECOGNITION FROM CAMERA #"
   ]
  },
  {
   "cell_type": "code",
   "execution_count": null,
   "id": "6a026286-811b-4612-886e-6a00c565c377",
   "metadata": {},
   "outputs": [],
   "source": [
    "import cv2\n",
    "face_cascade = cv2.CascadeClassifier(r'S:\\\\Seema maam\\\\10.Final Folder Face Recognition\\\\haarcascade_frontalface_default.xml')\n",
    "\n",
    "# capture frames from a camera\n",
    "cap = cv2.VideoCapture(0)\n",
    "\n",
    "# loop runs if capturing has been initialized.\n",
    "while 1:\n",
    "\n",
    "     # reads frames from a camera\n",
    "     ret, img = cap.read()\n",
    "    \n",
    "     # convert to gray scale of each frames\n",
    "     gray = cv2.cvtColor(img, cv2.COLOR_BGR2GRAY)\n",
    "    \n",
    "     # Detects faces of different sizes in the input image\n",
    "     faces = face_cascade.detectMultiScale(gray, 1.3, 5)\n",
    "    \n",
    "     for (x,y,w,h) in faces:\n",
    "         # To draw a rectangle in a face\n",
    "         cv2.rectangle(img,(x,y),(x+w,y+h),(255,255,0),2)\n",
    "    \n",
    "     # Display an image in a window\n",
    "     cv2.imshow('img',img)\n",
    "    \n",
    "     # Wait for Esc key to stop\n",
    "     k = cv2.waitKey(30) & 0xFF\n",
    "     if k == 27:\n",
    "         break\n",
    "\n",
    "# Close the window\n",
    "cap.release()\n",
    "\n",
    "# De-allocate any associated memory usage\n",
    "cv2.destroyAllWindows() \n"
   ]
  },
  {
   "cell_type": "markdown",
   "id": "c63288b3-30a3-4a82-b141-29d4241080cd",
   "metadata": {},
   "source": [
    "# EYE RECOGNITION FROM PHOTO #"
   ]
  },
  {
   "cell_type": "code",
   "execution_count": 6,
   "id": "6a23f3ae-38e6-40e5-9e73-268476a1bfcf",
   "metadata": {},
   "outputs": [
    {
     "data": {
      "text/plain": [
       "-1"
      ]
     },
     "execution_count": 6,
     "metadata": {},
     "output_type": "execute_result"
    }
   ],
   "source": [
    "import cv2\n",
    "# Load the cascade\n",
    "face_cascade = cv2.CascadeClassifier(r'S:\\\\Seema maam\\\\10.Final Folder Face Recognition\\\\haarcascade_eye1.xml')\n",
    "\n",
    "# Read the input image\n",
    "img = cv2.imread(r'S:\\\\Seema maam\\\\10.Final Folder Face Recognition\\\\test.jpg')\n",
    "# Convert into grayscale\n",
    "gray = cv2.cvtColor(img, cv2.COLOR_BGR2GRAY)\n",
    "# Detect faces\n",
    "faces = face_cascade.detectMultiScale(gray, 1.1, 4)\n",
    "# Draw rectangle around the faces\n",
    "for (x, y, w, h) in faces:\n",
    "    cv2.rectangle(img, (x, y), (x + w, y + h), (0, 0, 255), 4)\n",
    "# Display the output\n",
    "cv2.imshow('img', img)\n",
    "cv2.waitKey()"
   ]
  },
  {
   "cell_type": "code",
   "execution_count": null,
   "id": "8a273b49-6af8-489e-a2a7-ebca477d94cd",
   "metadata": {},
   "outputs": [],
   "source": []
  },
  {
   "cell_type": "code",
   "execution_count": 7,
   "id": "268aa43d-7fa7-4554-b5de-8f33e7d369dd",
   "metadata": {},
   "outputs": [],
   "source": [
    "import cv2\n",
    "face_cascade = cv2.CascadeClassifier(r'S:\\\\Seema maam\\\\10.Final Folder Face Recognition\\\\haarcascade_eye1.xml')\n",
    "\n",
    "# capture frames from a camera\n",
    "cap = cv2.VideoCapture(0)\n",
    "\n",
    "# loop runs if capturing has been initialized.\n",
    "while 1:\n",
    "\n",
    "     # reads frames from a camera\n",
    "     ret, img = cap.read()\n",
    "    \n",
    "     # convert to gray scale of each frames\n",
    "     gray = cv2.cvtColor(img, cv2.COLOR_BGR2GRAY)\n",
    "    \n",
    "     # Detects faces of different sizes in the input image\n",
    "     faces = face_cascade.detectMultiScale(gray, 1.3, 5)\n",
    "    \n",
    "     for (x,y,w,h) in faces:\n",
    "         # To draw a rectangle in a face\n",
    "         cv2.rectangle(img,(x,y),(x+w,y+h),(255,255,0),2)\n",
    "    \n",
    "     # Display an image in a window\n",
    "     cv2.imshow('img',img)\n",
    "    \n",
    "     # Wait for Esc key to stop\n",
    "     k = cv2.waitKey(30) & 0xFF\n",
    "     if k == 27:\n",
    "         break\n",
    "\n",
    "# Close the window\n",
    "cap.release()\n",
    "\n",
    "# De-allocate any associated memory usage\n",
    "cv2.destroyAllWindows() "
   ]
  },
  {
   "cell_type": "code",
   "execution_count": null,
   "id": "2151627c-6704-483e-8433-6c554aaa55c0",
   "metadata": {},
   "outputs": [],
   "source": []
  }
 ],
 "metadata": {
  "kernelspec": {
   "display_name": "Python 3 (ipykernel)",
   "language": "python",
   "name": "python3"
  },
  "language_info": {
   "codemirror_mode": {
    "name": "ipython",
    "version": 3
   },
   "file_extension": ".py",
   "mimetype": "text/x-python",
   "name": "python",
   "nbconvert_exporter": "python",
   "pygments_lexer": "ipython3",
   "version": "3.12.0"
  }
 },
 "nbformat": 4,
 "nbformat_minor": 5
}
